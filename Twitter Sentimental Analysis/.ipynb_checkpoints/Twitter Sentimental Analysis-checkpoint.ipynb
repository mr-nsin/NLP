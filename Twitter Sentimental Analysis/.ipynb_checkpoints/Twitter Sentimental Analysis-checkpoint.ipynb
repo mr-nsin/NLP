{
 "cells": [
  {
   "cell_type": "code",
   "execution_count": 1,
   "metadata": {},
   "outputs": [],
   "source": [
    "#import tweepy library to get tweets from twitter. \n",
    "import tweepy"
   ]
  },
  {
   "cell_type": "code",
   "execution_count": 4,
   "metadata": {},
   "outputs": [],
   "source": [
    "#importing sentimental analysis library\n",
    "from textblob import TextBlob"
   ]
  },
  {
   "cell_type": "code",
   "execution_count": 5,
   "metadata": {},
   "outputs": [],
   "source": [
    "consumer_key = 'w5m4N7FZi5qP5kKnOlIxMDYhv'\n",
    "consumer_secret = 'vYKE3fQOJKfuFurANPYqVagNzaJcDoiz1kjgBmwFFkjQdvvtZu'"
   ]
  },
  {
   "cell_type": "code",
   "execution_count": 6,
   "metadata": {},
   "outputs": [],
   "source": [
    "access_token= '1460312888-HhxMNYiNm2RjKUrdtkehvRPB5kLFKlFKCZRBhZe'\n",
    "access_token_secret = '4fa0D5J3GofRVWHwP2LCz14Ct6A42Awz1ly4byuaJYgiS'"
   ]
  },
  {
   "cell_type": "code",
   "execution_count": 7,
   "metadata": {},
   "outputs": [],
   "source": [
    "#using OAuthHandler method to get access to API.\n",
    "auth = tweepy.OAuthHandler(consumer_key, consumer_secret)"
   ]
  },
  {
   "cell_type": "code",
   "execution_count": 9,
   "metadata": {},
   "outputs": [],
   "source": [
    "auth.set_access_token(access_token, access_token_secret)"
   ]
  },
  {
   "cell_type": "code",
   "execution_count": 13,
   "metadata": {},
   "outputs": [],
   "source": [
    "api = tweepy.API(auth)"
   ]
  },
  {
   "cell_type": "code",
   "execution_count": 15,
   "metadata": {},
   "outputs": [],
   "source": [
    "public_tweets = api.search('Trump')"
   ]
  },
  {
   "cell_type": "code",
   "execution_count": 47,
   "metadata": {},
   "outputs": [
    {
     "name": "stdout",
     "output_type": "stream",
     "text": [
      "RT @WireAmerican: Help slow the rise of anti-semetism from the left. Sign the petition and join the team that's going to get Trump re-elect…\n",
      "Sentiment(polarity=-0.15000000000000002, subjectivity=0.19999999999999998)\n",
      "RT @TeaPainUSA: Trump's tweetin' today like Bob Mueller is standin' in the White House driveway with a grand jury subpoena.\n",
      "Sentiment(polarity=0.25, subjectivity=0.5)\n",
      "RT @Kanew: “Fined $8 Million for using his charity for campaign purposes.”\n",
      "\n",
      "A major scandal for any other president. Doesn’t even crack the…\n",
      "Sentiment(polarity=-0.03125, subjectivity=0.4375)\n",
      "RT @JillWineBanks: @kireau @JudgeJeanine I'm commenting on specific tweets by Trump today. Anti-McCain, anti-free press, pro Fox and Judge…\n",
      "Sentiment(polarity=0.0, subjectivity=0.125)\n",
      "RT @peterdaou: POLL: Has the Trump presidency been as bad as you expected, or worse?\n",
      "Sentiment(polarity=-0.3999999999999999, subjectivity=0.5555555555555555)\n",
      "RT @TheDemocrats: Millions of Americans can't access the health care they need in states where Republicans have refused to expand Medicaid.…\n",
      "Sentiment(polarity=0.0, subjectivity=0.0)\n",
      "RT @jdawsey1: They lied to the public for months before Donald Trump was elected — and then after he won. They lied to Congress as lawmaker…\n",
      "Sentiment(polarity=0.0, subjectivity=0.06666666666666667)\n",
      "Bolsonaro embarca para os EUA para se reunir com Trump https://t.co/dR4L5irD7r\n",
      "Sentiment(polarity=0.0, subjectivity=0.0)\n",
      "RT @funder: 46 years ago Senator John McCain stepped off a plane after being held captive in Vietnam for 1,967 days. He was a Captain in th…\n",
      "Sentiment(polarity=0.2, subjectivity=0.6)\n",
      "Trump's on one of his famous Twitter tears. That often means bad news is coming #Topbuzz https://t.co/L5lwdpoILp\n",
      "Sentiment(polarity=-0.09999999999999992, subjectivity=0.8333333333333333)\n",
      "RT @BillKristol: To Republicans who've been inclined to acquiesce in a Trump re-nomination in 2020: Read his tweets this morning. Think ser…\n",
      "Sentiment(polarity=0.0, subjectivity=0.0)\n",
      "@realDonaldTrump @POTUS Just a reminder from Trumps base, “He is your President too” So we all should feel nauseous… https://t.co/htd4UDEme6\n",
      "Sentiment(polarity=-0.8, subjectivity=1.0)\n",
      "RT @MSNBC: Golf Magazine is reporting that President Trump has a plaque in his golf club in West Palm Beach stating that he won the club's…\n",
      "Sentiment(polarity=0.0, subjectivity=0.0)\n",
      "RT @mmpadellan: Hey @LindseyGrahamSC!\n",
      "\n",
      "Have you fallen so hard and far from decency that you can't/won't defend the memory of your buddy Se…\n",
      "Sentiment(polarity=-0.09583333333333334, subjectivity=0.7708333333333333)\n",
      "RT @joncoopertweets: Donald Trump will go down in history as the first American president to have willingly betrayed his own country in ser…\n",
      "Sentiment(polarity=0.18888888888888888, subjectivity=0.47444444444444445)\n"
     ]
    }
   ],
   "source": [
    "for tweet in public_tweets:\n",
    "    print(tweet.text)\n",
    "    analysis = TextBlob(tweet.text)\n",
    "    print(analysis.sentiment)"
   ]
  },
  {
   "cell_type": "code",
   "execution_count": null,
   "metadata": {},
   "outputs": [],
   "source": []
  },
  {
   "cell_type": "code",
   "execution_count": null,
   "metadata": {},
   "outputs": [],
   "source": []
  }
 ],
 "metadata": {
  "kernelspec": {
   "display_name": "Python 3",
   "language": "python",
   "name": "python3"
  },
  "language_info": {
   "codemirror_mode": {
    "name": "ipython",
    "version": 3
   },
   "file_extension": ".py",
   "mimetype": "text/x-python",
   "name": "python",
   "nbconvert_exporter": "python",
   "pygments_lexer": "ipython3",
   "version": "3.6.5"
  }
 },
 "nbformat": 4,
 "nbformat_minor": 2
}
