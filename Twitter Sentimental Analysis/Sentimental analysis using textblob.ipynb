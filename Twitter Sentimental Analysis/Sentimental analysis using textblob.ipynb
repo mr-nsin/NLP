{
 "cells": [
  {
   "cell_type": "code",
   "execution_count": 10,
   "metadata": {},
   "outputs": [],
   "source": [
    "from textblob import TextBlob\n",
    "from nltk import download"
   ]
  },
  {
   "cell_type": "code",
   "execution_count": 11,
   "metadata": {},
   "outputs": [],
   "source": [
    "wiki = TextBlob(\"The titular threat of The Blob has always struck me as the ultimate movie onster: an insatiably hungry, amoeba-like mass able to penetrate irtually any safeguard, capable of--as a doomed doctor chillingly escribes it--'\"assimilating flesh on contact. nide comparisons to gelatin be damned, it's a concept with the most evastating of potential consequences, not unlike the grey goo scenario roposed by technological theorists fearful of rtificial intelligence run rampant.\")"
   ]
  },
  {
   "cell_type": "code",
   "execution_count": 16,
   "metadata": {},
   "outputs": [
    {
     "data": {
      "text/plain": [
       "[('Nitin', 'NNP'),\n",
       " ('is', 'VBZ'),\n",
       " ('angry', 'JJ'),\n",
       " ('beacause', 'IN'),\n",
       " ('i', 'JJ'),\n",
       " ('never', 'RB'),\n",
       " ('gets', 'VBZ'),\n",
       " ('good', 'JJ'),\n",
       " ('matches', 'NNS'),\n",
       " ('on', 'IN'),\n",
       " ('Tinder', 'NNP')]"
      ]
     },
     "execution_count": 16,
     "metadata": {},
     "output_type": "execute_result"
    }
   ],
   "source": [
    "wiki.tags"
   ]
  },
  {
   "cell_type": "code",
   "execution_count": 17,
   "metadata": {},
   "outputs": [
    {
     "data": {
      "text/plain": [
       "WordList(['Nitin', 'is', 'angry', 'beacause', 'i', 'never', 'gets', 'good', 'matches', 'on', 'Tinder'])"
      ]
     },
     "execution_count": 17,
     "metadata": {},
     "output_type": "execute_result"
    }
   ],
   "source": [
    "wiki.words"
   ]
  },
  {
   "cell_type": "code",
   "execution_count": 18,
   "metadata": {},
   "outputs": [
    {
     "data": {
      "text/plain": [
       "defaultdict(int,\n",
       "            {'nitin': 1,\n",
       "             'is': 1,\n",
       "             'angry': 1,\n",
       "             'beacause': 1,\n",
       "             'i': 1,\n",
       "             'never': 1,\n",
       "             'gets': 1,\n",
       "             'good': 1,\n",
       "             'matches': 1,\n",
       "             'on': 1,\n",
       "             'tinder': 1})"
      ]
     },
     "execution_count": 18,
     "metadata": {},
     "output_type": "execute_result"
    }
   ],
   "source": [
    "wiki.word_counts"
   ]
  },
  {
   "cell_type": "code",
   "execution_count": null,
   "metadata": {},
   "outputs": [],
   "source": []
  }
 ],
 "metadata": {
  "kernelspec": {
   "display_name": "Python 3",
   "language": "python",
   "name": "python3"
  },
  "language_info": {
   "codemirror_mode": {
    "name": "ipython",
    "version": 3
   },
   "file_extension": ".py",
   "mimetype": "text/x-python",
   "name": "python",
   "nbconvert_exporter": "python",
   "pygments_lexer": "ipython3",
   "version": "3.6.5"
  }
 },
 "nbformat": 4,
 "nbformat_minor": 2
}
