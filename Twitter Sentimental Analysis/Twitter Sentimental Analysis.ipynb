{
 "cells": [
  {
   "cell_type": "code",
   "execution_count": 2,
   "metadata": {},
   "outputs": [],
   "source": [
    "#import tweepy library to get tweets from twitter. \n",
    "import tweepy"
   ]
  },
  {
   "cell_type": "code",
   "execution_count": 3,
   "metadata": {},
   "outputs": [],
   "source": [
    "#importing sentimental analysis library\n",
    "from textblob import TextBlob"
   ]
  },
  {
   "cell_type": "code",
   "execution_count": 4,
   "metadata": {},
   "outputs": [],
   "source": [
    "consumer_key = 'w5m4N7FZi5qP5kKnOlIxMDYhv'\n",
    "consumer_secret = 'vYKE3fQOJKfuFurANPYqVagNzaJcDoiz1kjgBmwFFkjQdvvtZu'"
   ]
  },
  {
   "cell_type": "code",
   "execution_count": 5,
   "metadata": {},
   "outputs": [],
   "source": [
    "access_token= '1460312888-HhxMNYiNm2RjKUrdtkehvRPB5kLFKlFKCZRBhZe'\n",
    "access_token_secret = '4fa0D5J3GofRVWHwP2LCz14Ct6A42Awz1ly4byuaJYgiS'"
   ]
  },
  {
   "cell_type": "code",
   "execution_count": 6,
   "metadata": {},
   "outputs": [],
   "source": [
    "#using OAuthHandler method to get access to API.\n",
    "auth = tweepy.OAuthHandler(consumer_key, consumer_secret)"
   ]
  },
  {
   "cell_type": "code",
   "execution_count": 7,
   "metadata": {},
   "outputs": [],
   "source": [
    "auth.set_access_token(access_token, access_token_secret)"
   ]
  },
  {
   "cell_type": "code",
   "execution_count": 8,
   "metadata": {},
   "outputs": [],
   "source": [
    "api = tweepy.API(auth)"
   ]
  },
  {
   "cell_type": "code",
   "execution_count": 9,
   "metadata": {},
   "outputs": [],
   "source": [
    "public_tweets = api.search('Trump')"
   ]
  },
  {
   "cell_type": "code",
   "execution_count": 13,
   "metadata": {},
   "outputs": [
    {
     "name": "stdout",
     "output_type": "stream",
     "text": [
      "Trump can not implement transgender ID guidelines.\n",
      "Sentiment(polarity=0.0, subjectivity=0.0)\n",
      "0.0\n",
      "Most recent tweet from #Trump was 8 hours ago. Terrible.\n",
      "Sentiment(polarity=-0.16666666666666666, subjectivity=0.5833333333333334)\n",
      "-0.16666666666666666\n",
      "Trump ne reconnaît pas le réchauffement climatique. La réponse est possiblement ici https://t.co/MExnTQnD4Z #Planète https://t.co/pQyp2YNHp5\n",
      "Sentiment(polarity=0.0, subjectivity=0.0)\n",
      "0.0\n",
      "@MikePrevost3 @DevinCow @DevinNunes Hey @DevinNunes - Don’t have a cow! You can #BeButter\n",
      "\n",
      "@DevinCow\n",
      "Sentiment(polarity=-0.16666666666666666, subjectivity=0.16666666666666666)\n",
      "-0.16666666666666666\n",
      "Trump 2020 budget calls for more RPA, better CX https://t.co/TQQH998Qu2\n",
      "Sentiment(polarity=0.5, subjectivity=0.5)\n",
      "0.5\n",
      "Trump have not resind resigned from presedent of the USA. We wait for 789 days and 18 hour. I suport: #StopTheFCC… https://t.co/Jfg8OtpkNg\n",
      "Sentiment(polarity=0.0, subjectivity=0.0)\n",
      "0.0\n",
      "RT @RepCummings: Read my op-ed in the @WashingtonPost on President Trump and the White House’s unprecedented level of stonewalling, delay,…\n",
      "Sentiment(polarity=0.3, subjectivity=0.45)\n",
      "0.3\n",
      "Trump's budget projects 10 straight years of 3 percent growth. If this forecast fails to materialize, it will make… https://t.co/8XJMlViG3B\n",
      "Sentiment(polarity=-0.15, subjectivity=0.35)\n",
      "-0.15\n",
      "Kit Harington compare Donald Trump à Joffrey de « Game of Thrones » https://t.co/YdOQ3eVpsq\n",
      "Sentiment(polarity=-0.4, subjectivity=0.4)\n",
      "-0.4\n",
      "RT @BreitbartLondon: It has now been 1,000 days since the UK voted to leave the European Union, and we seem further than ever from realisin…\n",
      "Sentiment(polarity=0.0, subjectivity=0.25)\n",
      "0.0\n",
      "RT @andrewjgregor: In a first, Germany is requesting the removal of the Trump appointed ambassador to Germany, #RichardGrenell.\n",
      "They consid…\n",
      "Sentiment(polarity=0.25, subjectivity=0.3333333333333333)\n",
      "0.25\n",
      "RT @ReneeHoagenson: The acting attorney general who was fired by @POTUS after opposing his immigration ban has been nominated for the John…\n",
      "Sentiment(polarity=0.02500000000000001, subjectivity=0.25)\n",
      "0.02500000000000001\n",
      "RT @JesseRyanUSA: Vetoes by President:\n",
      "\n",
      "Reagan: 78\n",
      "Bush Sr.: 44\n",
      "Clinton: 37\n",
      "Bush Jr.: 17\n",
      "Obama: 12\n",
      "Trump: 1\n",
      "\n",
      "Now guess which President is b…\n",
      "Sentiment(polarity=0.0, subjectivity=0.0)\n",
      "0.0\n",
      "RT @TheDemCoalition: Lindsey Graham just blamed Trump’s attacks on McCain on The Resistance. Graham is a lunatic. https://t.co/XHRzbcqrfo\n",
      "Sentiment(polarity=0.0, subjectivity=0.0)\n",
      "0.0\n",
      "RT @sxdoc: HUGE! Pentagon Finds $12.8 Billion for President Trump's Border Wall Construction: National Emergency 🚨 U.S. Border Patrol Agent…\n",
      "Sentiment(polarity=0.5000000000000001, subjectivity=0.9)\n",
      "0.5000000000000001\n"
     ]
    }
   ],
   "source": [
    "for tweet in public_tweets:\n",
    "    print(tweet.text)\n",
    "    analysis = TextBlob(tweet.text)\n",
    "    sentimental_analysis = analysis.sentiment\n",
    "    print(sentimental_analysis)\n",
    "    print(sentimental_analysis.polarity)"
   ]
  },
  {
   "cell_type": "code",
   "execution_count": null,
   "metadata": {},
   "outputs": [],
   "source": []
  },
  {
   "cell_type": "code",
   "execution_count": null,
   "metadata": {},
   "outputs": [],
   "source": []
  }
 ],
 "metadata": {
  "kernelspec": {
   "display_name": "Python 3",
   "language": "python",
   "name": "python3"
  },
  "language_info": {
   "codemirror_mode": {
    "name": "ipython",
    "version": 3
   },
   "file_extension": ".py",
   "mimetype": "text/x-python",
   "name": "python",
   "nbconvert_exporter": "python",
   "pygments_lexer": "ipython3",
   "version": "3.6.5"
  }
 },
 "nbformat": 4,
 "nbformat_minor": 2
}
